{
  "nbformat": 4,
  "nbformat_minor": 0,
  "metadata": {
    "colab": {
      "provenance": [],
      "collapsed_sections": [
        "2aD_VJThLW0x",
        "rSvTLCLbfpiX",
        "1CFH4Qqnd-xz",
        "OiCkdjqzVXmL"
      ]
    },
    "kernelspec": {
      "name": "python3",
      "display_name": "Python 3"
    },
    "language_info": {
      "name": "python"
    }
  },
  "cells": [
    {
      "cell_type": "markdown",
      "source": [
        "# Imports"
      ],
      "metadata": {
        "id": "fg68FDb7LPUw"
      }
    },
    {
      "cell_type": "code",
      "execution_count": 1557,
      "metadata": {
        "id": "T4Kpdc4e5X_E"
      },
      "outputs": [],
      "source": [
        "import pandas as pd\n",
        "import matplotlib.pyplot as plt\n",
        "import seaborn as sns\n",
        "import tensorflow as tf\n",
        "from tensorflow import keras\n",
        "import numpy as np"
      ]
    },
    {
      "cell_type": "code",
      "source": [
        "space = pd.read_csv('/content/SpaceTitanic.csv')\n",
        "space_test = pd.read_csv('/content/SpaceTitanicTest.csv')\n",
        "combined = [space, space_test]"
      ],
      "metadata": {
        "id": "7LVwBbQIJG6x"
      },
      "execution_count": 1612,
      "outputs": []
    },
    {
      "cell_type": "markdown",
      "source": [
        "# Data Discovery"
      ],
      "metadata": {
        "id": "2aD_VJThLW0x"
      }
    },
    {
      "cell_type": "code",
      "source": [
        "space.head()"
      ],
      "metadata": {
        "colab": {
          "base_uri": "https://localhost:8080/",
          "height": 357
        },
        "id": "TkQFUpZ2LY8A",
        "outputId": "13362da8-3f04-4eef-e2e3-62cb7861c9d6"
      },
      "execution_count": 1559,
      "outputs": [
        {
          "output_type": "execute_result",
          "data": {
            "text/plain": [
              "  PassengerId HomePlanet CryoSleep  Cabin  Destination   Age    VIP  \\\n",
              "0     0001_01     Europa     False  B/0/P  TRAPPIST-1e  39.0  False   \n",
              "1     0002_01      Earth     False  F/0/S  TRAPPIST-1e  24.0  False   \n",
              "2     0003_01     Europa     False  A/0/S  TRAPPIST-1e  58.0   True   \n",
              "3     0003_02     Europa     False  A/0/S  TRAPPIST-1e  33.0  False   \n",
              "4     0004_01      Earth     False  F/1/S  TRAPPIST-1e  16.0  False   \n",
              "\n",
              "   RoomService  FoodCourt  ShoppingMall     Spa  VRDeck               Name  \\\n",
              "0          0.0        0.0           0.0     0.0     0.0    Maham Ofracculy   \n",
              "1        109.0        9.0          25.0   549.0    44.0       Juanna Vines   \n",
              "2         43.0     3576.0           0.0  6715.0    49.0      Altark Susent   \n",
              "3          0.0     1283.0         371.0  3329.0   193.0       Solam Susent   \n",
              "4        303.0       70.0         151.0   565.0     2.0  Willy Santantines   \n",
              "\n",
              "   Transported  \n",
              "0        False  \n",
              "1         True  \n",
              "2        False  \n",
              "3        False  \n",
              "4         True  "
            ],
            "text/html": [
              "\n",
              "  <div id=\"df-5b100070-5c36-40f5-b829-8a2d6fa1acdf\">\n",
              "    <div class=\"colab-df-container\">\n",
              "      <div>\n",
              "<style scoped>\n",
              "    .dataframe tbody tr th:only-of-type {\n",
              "        vertical-align: middle;\n",
              "    }\n",
              "\n",
              "    .dataframe tbody tr th {\n",
              "        vertical-align: top;\n",
              "    }\n",
              "\n",
              "    .dataframe thead th {\n",
              "        text-align: right;\n",
              "    }\n",
              "</style>\n",
              "<table border=\"1\" class=\"dataframe\">\n",
              "  <thead>\n",
              "    <tr style=\"text-align: right;\">\n",
              "      <th></th>\n",
              "      <th>PassengerId</th>\n",
              "      <th>HomePlanet</th>\n",
              "      <th>CryoSleep</th>\n",
              "      <th>Cabin</th>\n",
              "      <th>Destination</th>\n",
              "      <th>Age</th>\n",
              "      <th>VIP</th>\n",
              "      <th>RoomService</th>\n",
              "      <th>FoodCourt</th>\n",
              "      <th>ShoppingMall</th>\n",
              "      <th>Spa</th>\n",
              "      <th>VRDeck</th>\n",
              "      <th>Name</th>\n",
              "      <th>Transported</th>\n",
              "    </tr>\n",
              "  </thead>\n",
              "  <tbody>\n",
              "    <tr>\n",
              "      <th>0</th>\n",
              "      <td>0001_01</td>\n",
              "      <td>Europa</td>\n",
              "      <td>False</td>\n",
              "      <td>B/0/P</td>\n",
              "      <td>TRAPPIST-1e</td>\n",
              "      <td>39.0</td>\n",
              "      <td>False</td>\n",
              "      <td>0.0</td>\n",
              "      <td>0.0</td>\n",
              "      <td>0.0</td>\n",
              "      <td>0.0</td>\n",
              "      <td>0.0</td>\n",
              "      <td>Maham Ofracculy</td>\n",
              "      <td>False</td>\n",
              "    </tr>\n",
              "    <tr>\n",
              "      <th>1</th>\n",
              "      <td>0002_01</td>\n",
              "      <td>Earth</td>\n",
              "      <td>False</td>\n",
              "      <td>F/0/S</td>\n",
              "      <td>TRAPPIST-1e</td>\n",
              "      <td>24.0</td>\n",
              "      <td>False</td>\n",
              "      <td>109.0</td>\n",
              "      <td>9.0</td>\n",
              "      <td>25.0</td>\n",
              "      <td>549.0</td>\n",
              "      <td>44.0</td>\n",
              "      <td>Juanna Vines</td>\n",
              "      <td>True</td>\n",
              "    </tr>\n",
              "    <tr>\n",
              "      <th>2</th>\n",
              "      <td>0003_01</td>\n",
              "      <td>Europa</td>\n",
              "      <td>False</td>\n",
              "      <td>A/0/S</td>\n",
              "      <td>TRAPPIST-1e</td>\n",
              "      <td>58.0</td>\n",
              "      <td>True</td>\n",
              "      <td>43.0</td>\n",
              "      <td>3576.0</td>\n",
              "      <td>0.0</td>\n",
              "      <td>6715.0</td>\n",
              "      <td>49.0</td>\n",
              "      <td>Altark Susent</td>\n",
              "      <td>False</td>\n",
              "    </tr>\n",
              "    <tr>\n",
              "      <th>3</th>\n",
              "      <td>0003_02</td>\n",
              "      <td>Europa</td>\n",
              "      <td>False</td>\n",
              "      <td>A/0/S</td>\n",
              "      <td>TRAPPIST-1e</td>\n",
              "      <td>33.0</td>\n",
              "      <td>False</td>\n",
              "      <td>0.0</td>\n",
              "      <td>1283.0</td>\n",
              "      <td>371.0</td>\n",
              "      <td>3329.0</td>\n",
              "      <td>193.0</td>\n",
              "      <td>Solam Susent</td>\n",
              "      <td>False</td>\n",
              "    </tr>\n",
              "    <tr>\n",
              "      <th>4</th>\n",
              "      <td>0004_01</td>\n",
              "      <td>Earth</td>\n",
              "      <td>False</td>\n",
              "      <td>F/1/S</td>\n",
              "      <td>TRAPPIST-1e</td>\n",
              "      <td>16.0</td>\n",
              "      <td>False</td>\n",
              "      <td>303.0</td>\n",
              "      <td>70.0</td>\n",
              "      <td>151.0</td>\n",
              "      <td>565.0</td>\n",
              "      <td>2.0</td>\n",
              "      <td>Willy Santantines</td>\n",
              "      <td>True</td>\n",
              "    </tr>\n",
              "  </tbody>\n",
              "</table>\n",
              "</div>\n",
              "      <button class=\"colab-df-convert\" onclick=\"convertToInteractive('df-5b100070-5c36-40f5-b829-8a2d6fa1acdf')\"\n",
              "              title=\"Convert this dataframe to an interactive table.\"\n",
              "              style=\"display:none;\">\n",
              "        \n",
              "  <svg xmlns=\"http://www.w3.org/2000/svg\" height=\"24px\"viewBox=\"0 0 24 24\"\n",
              "       width=\"24px\">\n",
              "    <path d=\"M0 0h24v24H0V0z\" fill=\"none\"/>\n",
              "    <path d=\"M18.56 5.44l.94 2.06.94-2.06 2.06-.94-2.06-.94-.94-2.06-.94 2.06-2.06.94zm-11 1L8.5 8.5l.94-2.06 2.06-.94-2.06-.94L8.5 2.5l-.94 2.06-2.06.94zm10 10l.94 2.06.94-2.06 2.06-.94-2.06-.94-.94-2.06-.94 2.06-2.06.94z\"/><path d=\"M17.41 7.96l-1.37-1.37c-.4-.4-.92-.59-1.43-.59-.52 0-1.04.2-1.43.59L10.3 9.45l-7.72 7.72c-.78.78-.78 2.05 0 2.83L4 21.41c.39.39.9.59 1.41.59.51 0 1.02-.2 1.41-.59l7.78-7.78 2.81-2.81c.8-.78.8-2.07 0-2.86zM5.41 20L4 18.59l7.72-7.72 1.47 1.35L5.41 20z\"/>\n",
              "  </svg>\n",
              "      </button>\n",
              "      \n",
              "  <style>\n",
              "    .colab-df-container {\n",
              "      display:flex;\n",
              "      flex-wrap:wrap;\n",
              "      gap: 12px;\n",
              "    }\n",
              "\n",
              "    .colab-df-convert {\n",
              "      background-color: #E8F0FE;\n",
              "      border: none;\n",
              "      border-radius: 50%;\n",
              "      cursor: pointer;\n",
              "      display: none;\n",
              "      fill: #1967D2;\n",
              "      height: 32px;\n",
              "      padding: 0 0 0 0;\n",
              "      width: 32px;\n",
              "    }\n",
              "\n",
              "    .colab-df-convert:hover {\n",
              "      background-color: #E2EBFA;\n",
              "      box-shadow: 0px 1px 2px rgba(60, 64, 67, 0.3), 0px 1px 3px 1px rgba(60, 64, 67, 0.15);\n",
              "      fill: #174EA6;\n",
              "    }\n",
              "\n",
              "    [theme=dark] .colab-df-convert {\n",
              "      background-color: #3B4455;\n",
              "      fill: #D2E3FC;\n",
              "    }\n",
              "\n",
              "    [theme=dark] .colab-df-convert:hover {\n",
              "      background-color: #434B5C;\n",
              "      box-shadow: 0px 1px 3px 1px rgba(0, 0, 0, 0.15);\n",
              "      filter: drop-shadow(0px 1px 2px rgba(0, 0, 0, 0.3));\n",
              "      fill: #FFFFFF;\n",
              "    }\n",
              "  </style>\n",
              "\n",
              "      <script>\n",
              "        const buttonEl =\n",
              "          document.querySelector('#df-5b100070-5c36-40f5-b829-8a2d6fa1acdf button.colab-df-convert');\n",
              "        buttonEl.style.display =\n",
              "          google.colab.kernel.accessAllowed ? 'block' : 'none';\n",
              "\n",
              "        async function convertToInteractive(key) {\n",
              "          const element = document.querySelector('#df-5b100070-5c36-40f5-b829-8a2d6fa1acdf');\n",
              "          const dataTable =\n",
              "            await google.colab.kernel.invokeFunction('convertToInteractive',\n",
              "                                                     [key], {});\n",
              "          if (!dataTable) return;\n",
              "\n",
              "          const docLinkHtml = 'Like what you see? Visit the ' +\n",
              "            '<a target=\"_blank\" href=https://colab.research.google.com/notebooks/data_table.ipynb>data table notebook</a>'\n",
              "            + ' to learn more about interactive tables.';\n",
              "          element.innerHTML = '';\n",
              "          dataTable['output_type'] = 'display_data';\n",
              "          await google.colab.output.renderOutput(dataTable, element);\n",
              "          const docLink = document.createElement('div');\n",
              "          docLink.innerHTML = docLinkHtml;\n",
              "          element.appendChild(docLink);\n",
              "        }\n",
              "      </script>\n",
              "    </div>\n",
              "  </div>\n",
              "  "
            ]
          },
          "metadata": {},
          "execution_count": 1559
        }
      ]
    },
    {
      "cell_type": "code",
      "source": [
        "print(\"Data features are:\\n\")\n",
        "print(space.columns.values)"
      ],
      "metadata": {
        "colab": {
          "base_uri": "https://localhost:8080/"
        },
        "id": "pVdrA8KQLuZ4",
        "outputId": "f3f7f610-01fc-4506-e8a9-abd54f839931"
      },
      "execution_count": 1560,
      "outputs": [
        {
          "output_type": "stream",
          "name": "stdout",
          "text": [
            "Data features are:\n",
            "\n",
            "['PassengerId' 'HomePlanet' 'CryoSleep' 'Cabin' 'Destination' 'Age' 'VIP'\n",
            " 'RoomService' 'FoodCourt' 'ShoppingMall' 'Spa' 'VRDeck' 'Name'\n",
            " 'Transported']\n"
          ]
        }
      ]
    },
    {
      "cell_type": "markdown",
      "source": [
        "### Discovering the features types:"
      ],
      "metadata": {
        "id": "GjvD-DCnWuCA"
      }
    },
    {
      "cell_type": "code",
      "source": [
        "print(space.info())\n",
        "print('\\n','='*80 , '\\n')\n",
        "print(space.describe())\n",
        "print('\\n','='*80 , '\\n')\n",
        "print(space.describe(include=['O']))"
      ],
      "metadata": {
        "colab": {
          "base_uri": "https://localhost:8080/"
        },
        "id": "wGr_7YccMD7Y",
        "outputId": "a7a08ef4-e076-4ef6-b5e3-d09ee389902f"
      },
      "execution_count": 1561,
      "outputs": [
        {
          "output_type": "stream",
          "name": "stdout",
          "text": [
            "<class 'pandas.core.frame.DataFrame'>\n",
            "RangeIndex: 8693 entries, 0 to 8692\n",
            "Data columns (total 14 columns):\n",
            " #   Column        Non-Null Count  Dtype  \n",
            "---  ------        --------------  -----  \n",
            " 0   PassengerId   8693 non-null   object \n",
            " 1   HomePlanet    8492 non-null   object \n",
            " 2   CryoSleep     8476 non-null   object \n",
            " 3   Cabin         8494 non-null   object \n",
            " 4   Destination   8511 non-null   object \n",
            " 5   Age           8514 non-null   float64\n",
            " 6   VIP           8490 non-null   object \n",
            " 7   RoomService   8512 non-null   float64\n",
            " 8   FoodCourt     8510 non-null   float64\n",
            " 9   ShoppingMall  8485 non-null   float64\n",
            " 10  Spa           8510 non-null   float64\n",
            " 11  VRDeck        8505 non-null   float64\n",
            " 12  Name          8493 non-null   object \n",
            " 13  Transported   8693 non-null   bool   \n",
            "dtypes: bool(1), float64(6), object(7)\n",
            "memory usage: 891.5+ KB\n",
            "None\n",
            "\n",
            " ================================================================================ \n",
            "\n",
            "               Age   RoomService     FoodCourt  ShoppingMall           Spa  \\\n",
            "count  8514.000000   8512.000000   8510.000000   8485.000000   8510.000000   \n",
            "mean     28.827930    224.687617    458.077203    173.729169    311.138778   \n",
            "std      14.489021    666.717663   1611.489240    604.696458   1136.705535   \n",
            "min       0.000000      0.000000      0.000000      0.000000      0.000000   \n",
            "25%      19.000000      0.000000      0.000000      0.000000      0.000000   \n",
            "50%      27.000000      0.000000      0.000000      0.000000      0.000000   \n",
            "75%      38.000000     47.000000     76.000000     27.000000     59.000000   \n",
            "max      79.000000  14327.000000  29813.000000  23492.000000  22408.000000   \n",
            "\n",
            "             VRDeck  \n",
            "count   8505.000000  \n",
            "mean     304.854791  \n",
            "std     1145.717189  \n",
            "min        0.000000  \n",
            "25%        0.000000  \n",
            "50%        0.000000  \n",
            "75%       46.000000  \n",
            "max    24133.000000  \n",
            "\n",
            " ================================================================================ \n",
            "\n",
            "       PassengerId HomePlanet CryoSleep    Cabin  Destination    VIP  \\\n",
            "count         8693       8492      8476     8494         8511   8490   \n",
            "unique        8693          3         2     6560            3      2   \n",
            "top        0001_01      Earth     False  G/734/S  TRAPPIST-1e  False   \n",
            "freq             1       4602      5439        8         5915   8291   \n",
            "\n",
            "                  Name  \n",
            "count             8493  \n",
            "unique            8473  \n",
            "top     Gollux Reedall  \n",
            "freq                 2  \n"
          ]
        }
      ]
    },
    {
      "cell_type": "markdown",
      "source": [
        "**Results**\n",
        "- 75% of passengers are younger than 38\n",
        "- RoomService, FoodCourt, ShoppingMall, Spa and VRDeck are all heavily skewed with outliers\n",
        "- There are only 199 VIPS (~ 2%)"
      ],
      "metadata": {
        "id": "M1nNmAy7dsiv"
      }
    },
    {
      "cell_type": "markdown",
      "source": [
        "**Insights**\n",
        "- Skewness means we can't replace missing values with average"
      ],
      "metadata": {
        "id": "eV4J4vcze4l_"
      }
    },
    {
      "cell_type": "markdown",
      "source": [
        "### Discovering the missing values:"
      ],
      "metadata": {
        "id": "jlZmAMbXWz6h"
      }
    },
    {
      "cell_type": "code",
      "source": [
        "print(\"Data missing values:\\n\")\n",
        "print(space.isnull().sum())\n",
        "print('\\n','_'*20 , '\\n')\n",
        "print(\"Data missing values %:\\n\")\n",
        "print(round(space.isnull().sum()/8693, 3))"
      ],
      "metadata": {
        "colab": {
          "base_uri": "https://localhost:8080/"
        },
        "id": "GWeGcjEkMdkQ",
        "outputId": "77be89dd-5c7b-4821-80d9-627e163655a6"
      },
      "execution_count": 1562,
      "outputs": [
        {
          "output_type": "stream",
          "name": "stdout",
          "text": [
            "Data missing values:\n",
            "\n",
            "PassengerId       0\n",
            "HomePlanet      201\n",
            "CryoSleep       217\n",
            "Cabin           199\n",
            "Destination     182\n",
            "Age             179\n",
            "VIP             203\n",
            "RoomService     181\n",
            "FoodCourt       183\n",
            "ShoppingMall    208\n",
            "Spa             183\n",
            "VRDeck          188\n",
            "Name            200\n",
            "Transported       0\n",
            "dtype: int64\n",
            "\n",
            " ____________________ \n",
            "\n",
            "Data missing values %:\n",
            "\n",
            "PassengerId     0.000\n",
            "HomePlanet      0.023\n",
            "CryoSleep       0.025\n",
            "Cabin           0.023\n",
            "Destination     0.021\n",
            "Age             0.021\n",
            "VIP             0.023\n",
            "RoomService     0.021\n",
            "FoodCourt       0.021\n",
            "ShoppingMall    0.024\n",
            "Spa             0.021\n",
            "VRDeck          0.022\n",
            "Name            0.023\n",
            "Transported     0.000\n",
            "dtype: float64\n"
          ]
        }
      ]
    },
    {
      "cell_type": "markdown",
      "source": [
        "All features have less than 3% missing values so data is quite good. Will discover correlations to act appropriately according to missing values."
      ],
      "metadata": {
        "id": "T5oCbHEUNr5Y"
      }
    },
    {
      "cell_type": "markdown",
      "source": [
        "# Exploratory Data Analysis (EDA)"
      ],
      "metadata": {
        "id": "rSvTLCLbfpiX"
      }
    },
    {
      "cell_type": "code",
      "source": [
        "# ===================================================================\n",
        "# Transported count\n",
        "# ===================================================================\n",
        "f,ax=plt.subplots(1,2,figsize=(8,4))\n",
        "space['Transported'].value_counts().plot.pie(explode=[0,0.1],autopct='%1.1f%%',ax=ax[0],shadow=True)\n",
        "ax[0].set_ylabel('')\n",
        "sns.countplot(x = space['Transported'], ax = ax[1])\n",
        "ax[1].set_ylabel('')\n",
        "ax[1].set_xlabel('')\n",
        "plt.show()"
      ],
      "metadata": {
        "colab": {
          "base_uri": "https://localhost:8080/",
          "height": 268
        },
        "id": "Lqiw3ruYfo-e",
        "outputId": "bbbd0ebd-0c4e-47e1-98e6-11fd9caf7a1a"
      },
      "execution_count": 1563,
      "outputs": [
        {
          "output_type": "display_data",
          "data": {
            "text/plain": [
              "<Figure size 576x288 with 2 Axes>"
            ],
            "image/png": "[encoded data removed]"
          },
          "metadata": {}
        }
      ]
    },
    {
      "cell_type": "code",
      "source": [
        "def bar_plot(feature1, feature):\n",
        "    plt.figure(figsize = (6,4))\n",
        "    sns.barplot(data = space , x = feature , y = feature1).set_title(f\"{feature} Vs {feature1}\")\n",
        "    plt.show()\n",
        "def table(feature1, feature):\n",
        "    return space[[feature, feature1]].groupby([feature], as_index=False).mean().sort_values(by=feature1, ascending=False).style.background_gradient(low=0.75,high=1)\n",
        "def hist_plot(feature1, feature):\n",
        "    plt.figure(figsize = (6,4))\n",
        "    sns.histplot(data = space , x = feature , hue = feature1,binwidth=5,palette = sns.color_palette([\"yellow\" , \"green\"]) ,multiple = \"stack\" ).set_title(f\"{feature} Vs {feature1}\")\n",
        "    plt.show()"
      ],
      "metadata": {
        "id": "CZiAtBm9gnpX"
      },
      "execution_count": 1564,
      "outputs": []
    },
    {
      "cell_type": "markdown",
      "source": [
        "**Home Planet Vs Transported**"
      ],
      "metadata": {
        "id": "POG3oWYJhOHW"
      }
    },
    {
      "cell_type": "code",
      "source": [
        "bar_plot('Transported','HomePlanet')"
      ],
      "metadata": {
        "colab": {
          "base_uri": "https://localhost:8080/",
          "height": 301
        },
        "id": "G6Bk8gggg-_W",
        "outputId": "c7c2c23f-2ae9-48c3-ec1a-3c5bb8d35714"
      },
      "execution_count": 1565,
      "outputs": [
        {
          "output_type": "display_data",
          "data": {
            "text/plain": [
              "<Figure size 432x288 with 1 Axes>"
            ],
            "image/png": "[encoded data removed]"
          },
          "metadata": {}
        }
      ]
    },
    {
      "cell_type": "code",
      "source": [
        "table('Transported','HomePlanet')"
      ],
      "metadata": {
        "colab": {
          "base_uri": "https://localhost:8080/",
          "height": 143
        },
        "id": "7JkEU_5ChNLO",
        "outputId": "816de60e-cec4-4f99-ca7c-f70463d4dce6"
      },
      "execution_count": 1566,
      "outputs": [
        {
          "output_type": "execute_result",
          "data": {
            "text/plain": [
              "<pandas.io.formats.style.Styler at 0x7f0ea4ebf650>"
            ],
            "text/html": [
              "<style type=\"text/css\">\n",
              "#T_6459c_row0_col1 {\n",
              "  background-color: #328dbf;\n",
              "  color: #f1f1f1;\n",
              "}\n",
              "#T_6459c_row1_col1 {\n",
              "  background-color: #91b5d6;\n",
              "  color: #000000;\n",
              "}\n",
              "#T_6459c_row2_col1 {\n",
              "  background-color: #c9cee4;\n",
              "  color: #000000;\n",
              "}\n",
              "</style>\n",
              "<table id=\"T_6459c_\" class=\"dataframe\">\n",
              "  <thead>\n",
              "    <tr>\n",
              "      <th class=\"blank level0\" >&nbsp;</th>\n",
              "      <th class=\"col_heading level0 col0\" >HomePlanet</th>\n",
              "      <th class=\"col_heading level0 col1\" >Transported</th>\n",
              "    </tr>\n",
              "  </thead>\n",
              "  <tbody>\n",
              "    <tr>\n",
              "      <th id=\"T_6459c_level0_row0\" class=\"row_heading level0 row0\" >1</th>\n",
              "      <td id=\"T_6459c_row0_col0\" class=\"data row0 col0\" >Europa</td>\n",
              "      <td id=\"T_6459c_row0_col1\" class=\"data row0 col1\" >0.658846</td>\n",
              "    </tr>\n",
              "    <tr>\n",
              "      <th id=\"T_6459c_level0_row1\" class=\"row_heading level0 row1\" >2</th>\n",
              "      <td id=\"T_6459c_row1_col0\" class=\"data row1 col0\" >Mars</td>\n",
              "      <td id=\"T_6459c_row1_col1\" class=\"data row1 col1\" >0.523024</td>\n",
              "    </tr>\n",
              "    <tr>\n",
              "      <th id=\"T_6459c_level0_row2\" class=\"row_heading level0 row2\" >0</th>\n",
              "      <td id=\"T_6459c_row2_col0\" class=\"data row2 col0\" >Earth</td>\n",
              "      <td id=\"T_6459c_row2_col1\" class=\"data row2 col1\" >0.423946</td>\n",
              "    </tr>\n",
              "  </tbody>\n",
              "</table>\n"
            ]
          },
          "metadata": {},
          "execution_count": 1566
        }
      ]
    },
    {
      "cell_type": "markdown",
      "source": [
        "**Cryo Sleep Vs Transported**"
      ],
      "metadata": {
        "id": "8ikPg_SQhptP"
      }
    },
    {
      "cell_type": "code",
      "source": [
        "bar_plot('Transported','CryoSleep')"
      ],
      "metadata": {
        "colab": {
          "base_uri": "https://localhost:8080/",
          "height": 301
        },
        "id": "bMId7CbThqBW",
        "outputId": "bcc0ebd6-65ba-48a7-b330-2848fd78ed43"
      },
      "execution_count": 1567,
      "outputs": [
        {
          "output_type": "display_data",
          "data": {
            "text/plain": [
              "<Figure size 432x288 with 1 Axes>"
            ],
            "image/png": "[encoded data removed]"
          },
          "metadata": {}
        }
      ]
    },
    {
      "cell_type": "code",
      "source": [
        "table('CryoSleep', 'VIP')"
      ],
      "metadata": {
        "colab": {
          "base_uri": "https://localhost:8080/",
          "height": 112
        },
        "id": "WuUQp6mmE-PB",
        "outputId": "3bbfd84e-f728-4f2f-b176-d2fdb426b0c7"
      },
      "execution_count": 1568,
      "outputs": [
        {
          "output_type": "execute_result",
          "data": {
            "text/plain": [
              "<pandas.io.formats.style.Styler at 0x7f0e9976a290>"
            ],
            "text/html": [
              "<style type=\"text/css\">\n",
              "#T_c330c_row0_col1 {\n",
              "  background-color: #328dbf;\n",
              "  color: #f1f1f1;\n",
              "}\n",
              "#T_c330c_row1_col1 {\n",
              "  background-color: #c9cee4;\n",
              "  color: #000000;\n",
              "}\n",
              "</style>\n",
              "<table id=\"T_c330c_\" class=\"dataframe\">\n",
              "  <thead>\n",
              "    <tr>\n",
              "      <th class=\"blank level0\" >&nbsp;</th>\n",
              "      <th class=\"col_heading level0 col0\" >VIP</th>\n",
              "      <th class=\"col_heading level0 col1\" >CryoSleep</th>\n",
              "    </tr>\n",
              "  </thead>\n",
              "  <tbody>\n",
              "    <tr>\n",
              "      <th id=\"T_c330c_level0_row0\" class=\"row_heading level0 row0\" >0</th>\n",
              "      <td id=\"T_c330c_row0_col0\" class=\"data row0 col0\" >False</td>\n",
              "      <td id=\"T_c330c_row0_col1\" class=\"data row0 col1\" >0.363805</td>\n",
              "    </tr>\n",
              "    <tr>\n",
              "      <th id=\"T_c330c_level0_row1\" class=\"row_heading level0 row1\" >1</th>\n",
              "      <td id=\"T_c330c_row1_col0\" class=\"data row1 col0\" >True</td>\n",
              "      <td id=\"T_c330c_row1_col1\" class=\"data row1 col1\" >0.107143</td>\n",
              "    </tr>\n",
              "  </tbody>\n",
              "</table>\n"
            ]
          },
          "metadata": {},
          "execution_count": 1568
        }
      ]
    },
    {
      "cell_type": "code",
      "source": [
        "table('Transported','CryoSleep')"
      ],
      "metadata": {
        "colab": {
          "base_uri": "https://localhost:8080/",
          "height": 112
        },
        "id": "_upH89wEhwp_",
        "outputId": "027d0cb9-b5f2-4c70-d798-74cc8483a25a"
      },
      "execution_count": 1569,
      "outputs": [
        {
          "output_type": "execute_result",
          "data": {
            "text/plain": [
              "<pandas.io.formats.style.Styler at 0x7f0e9485ded0>"
            ],
            "text/html": [
              "<style type=\"text/css\">\n",
              "#T_10ddd_row0_col1 {\n",
              "  background-color: #328dbf;\n",
              "  color: #f1f1f1;\n",
              "}\n",
              "#T_10ddd_row1_col1 {\n",
              "  background-color: #c9cee4;\n",
              "  color: #000000;\n",
              "}\n",
              "</style>\n",
              "<table id=\"T_10ddd_\" class=\"dataframe\">\n",
              "  <thead>\n",
              "    <tr>\n",
              "      <th class=\"blank level0\" >&nbsp;</th>\n",
              "      <th class=\"col_heading level0 col0\" >CryoSleep</th>\n",
              "      <th class=\"col_heading level0 col1\" >Transported</th>\n",
              "    </tr>\n",
              "  </thead>\n",
              "  <tbody>\n",
              "    <tr>\n",
              "      <th id=\"T_10ddd_level0_row0\" class=\"row_heading level0 row0\" >1</th>\n",
              "      <td id=\"T_10ddd_row0_col0\" class=\"data row0 col0\" >True</td>\n",
              "      <td id=\"T_10ddd_row0_col1\" class=\"data row0 col1\" >0.817583</td>\n",
              "    </tr>\n",
              "    <tr>\n",
              "      <th id=\"T_10ddd_level0_row1\" class=\"row_heading level0 row1\" >0</th>\n",
              "      <td id=\"T_10ddd_row1_col0\" class=\"data row1 col0\" >False</td>\n",
              "      <td id=\"T_10ddd_row1_col1\" class=\"data row1 col1\" >0.328921</td>\n",
              "    </tr>\n",
              "  </tbody>\n",
              "</table>\n"
            ]
          },
          "metadata": {},
          "execution_count": 1569
        }
      ]
    },
    {
      "cell_type": "markdown",
      "source": [
        "**Cabin**"
      ],
      "metadata": {
        "id": "yGvw6-_JjL95"
      }
    },
    {
      "cell_type": "markdown",
      "source": [
        "Cabin is formatted deck/num/side, the number is just the number passenger but if we can split deck and side into two new features may be useful."
      ],
      "metadata": {
        "id": "o67MHhJpjN-p"
      }
    },
    {
      "cell_type": "code",
      "source": [
        "for dataset in combined:\n",
        "  Deck = [cabin.split('/')[0] for cabin in dataset.Cabin.fillna('NA/NA/NA')]\n",
        "  Side = [cabin.split('/')[2] for cabin in dataset.Cabin.fillna('NA/NA/NA')]\n",
        "  dataset['Deck'] = Deck\n",
        "  dataset['Side'] = Side"
      ],
      "metadata": {
        "id": "pD5NLSehjrZ5"
      },
      "execution_count": 1613,
      "outputs": []
    },
    {
      "cell_type": "code",
      "source": [
        "bar_plot('Transported','Deck')"
      ],
      "metadata": {
        "id": "Exa30DjBjaHZ"
      },
      "execution_count": 1571,
      "outputs": []
    },
    {
      "cell_type": "code",
      "source": [
        "bar_plot('Transported','Side')"
      ],
      "metadata": {
        "id": "7ujyjmKelfXp"
      },
      "execution_count": 1572,
      "outputs": []
    },
    {
      "cell_type": "markdown",
      "source": [
        "**Destination Vs Transported**"
      ],
      "metadata": {
        "id": "3Za6tFoZiC0x"
      }
    },
    {
      "cell_type": "code",
      "source": [
        "bar_plot('Transported','Destination')"
      ],
      "metadata": {
        "colab": {
          "base_uri": "https://localhost:8080/",
          "height": 301
        },
        "id": "U53WSSSgiDEH",
        "outputId": "f71d19f8-8785-4853-dd99-c3225e01e859"
      },
      "execution_count": 1573,
      "outputs": [
        {
          "output_type": "display_data",
          "data": {
            "text/plain": [
              "<Figure size 432x288 with 1 Axes>"
            ],
            "image/png": "[encoded data removed]"
          },
          "metadata": {}
        }
      ]
    },
    {
      "cell_type": "code",
      "source": [
        "table('Transported','Destination')"
      ],
      "metadata": {
        "colab": {
          "base_uri": "https://localhost:8080/",
          "height": 143
        },
        "id": "9pPJ9epqiDbP",
        "outputId": "4f27992a-d3f1-453d-a4f4-f125e5f89412"
      },
      "execution_count": 1574,
      "outputs": [
        {
          "output_type": "execute_result",
          "data": {
            "text/plain": [
              "<pandas.io.formats.style.Styler at 0x7f0e99979410>"
            ],
            "text/html": [
              "<style type=\"text/css\">\n",
              "#T_ad30f_row0_col1 {\n",
              "  background-color: #328dbf;\n",
              "  color: #f1f1f1;\n",
              "}\n",
              "#T_ad30f_row1_col1 {\n",
              "  background-color: #acc0dd;\n",
              "  color: #000000;\n",
              "}\n",
              "#T_ad30f_row2_col1 {\n",
              "  background-color: #c9cee4;\n",
              "  color: #000000;\n",
              "}\n",
              "</style>\n",
              "<table id=\"T_ad30f_\" class=\"dataframe\">\n",
              "  <thead>\n",
              "    <tr>\n",
              "      <th class=\"blank level0\" >&nbsp;</th>\n",
              "      <th class=\"col_heading level0 col0\" >Destination</th>\n",
              "      <th class=\"col_heading level0 col1\" >Transported</th>\n",
              "    </tr>\n",
              "  </thead>\n",
              "  <tbody>\n",
              "    <tr>\n",
              "      <th id=\"T_ad30f_level0_row0\" class=\"row_heading level0 row0\" >0</th>\n",
              "      <td id=\"T_ad30f_row0_col0\" class=\"data row0 col0\" >55 Cancri e</td>\n",
              "      <td id=\"T_ad30f_row0_col1\" class=\"data row0 col1\" >0.610000</td>\n",
              "    </tr>\n",
              "    <tr>\n",
              "      <th id=\"T_ad30f_level0_row1\" class=\"row_heading level0 row1\" >1</th>\n",
              "      <td id=\"T_ad30f_row1_col0\" class=\"data row1 col0\" >PSO J318.5-22</td>\n",
              "      <td id=\"T_ad30f_row1_col1\" class=\"data row1 col1\" >0.503769</td>\n",
              "    </tr>\n",
              "    <tr>\n",
              "      <th id=\"T_ad30f_level0_row2\" class=\"row_heading level0 row2\" >2</th>\n",
              "      <td id=\"T_ad30f_row2_col0\" class=\"data row2 col0\" >TRAPPIST-1e</td>\n",
              "      <td id=\"T_ad30f_row2_col1\" class=\"data row2 col1\" >0.471175</td>\n",
              "    </tr>\n",
              "  </tbody>\n",
              "</table>\n"
            ]
          },
          "metadata": {},
          "execution_count": 1574
        }
      ]
    },
    {
      "cell_type": "markdown",
      "source": [
        "**VIP Vs Transported**"
      ],
      "metadata": {
        "id": "Z8Ua9Y5hiDsf"
      }
    },
    {
      "cell_type": "code",
      "source": [
        "bar_plot('Transported','VIP')"
      ],
      "metadata": {
        "colab": {
          "base_uri": "https://localhost:8080/",
          "height": 301
        },
        "id": "lCRc4TnuiEAH",
        "outputId": "4dfd5474-d6cd-4b19-f45c-c8e25e07af8b"
      },
      "execution_count": 1575,
      "outputs": [
        {
          "output_type": "display_data",
          "data": {
            "text/plain": [
              "<Figure size 432x288 with 1 Axes>"
            ],
            "image/png": "[encoded data removed]"
          },
          "metadata": {}
        }
      ]
    },
    {
      "cell_type": "code",
      "source": [
        "table('Transported','VIP')"
      ],
      "metadata": {
        "colab": {
          "base_uri": "https://localhost:8080/",
          "height": 112
        },
        "id": "qrZYZEmpiEOX",
        "outputId": "829f1c37-d287-4111-b1c1-c46467f83808"
      },
      "execution_count": 1576,
      "outputs": [
        {
          "output_type": "execute_result",
          "data": {
            "text/plain": [
              "<pandas.io.formats.style.Styler at 0x7f0ea0cc20d0>"
            ],
            "text/html": [
              "<style type=\"text/css\">\n",
              "#T_07bbb_row0_col1 {\n",
              "  background-color: #328dbf;\n",
              "  color: #f1f1f1;\n",
              "}\n",
              "#T_07bbb_row1_col1 {\n",
              "  background-color: #c9cee4;\n",
              "  color: #000000;\n",
              "}\n",
              "</style>\n",
              "<table id=\"T_07bbb_\" class=\"dataframe\">\n",
              "  <thead>\n",
              "    <tr>\n",
              "      <th class=\"blank level0\" >&nbsp;</th>\n",
              "      <th class=\"col_heading level0 col0\" >VIP</th>\n",
              "      <th class=\"col_heading level0 col1\" >Transported</th>\n",
              "    </tr>\n",
              "  </thead>\n",
              "  <tbody>\n",
              "    <tr>\n",
              "      <th id=\"T_07bbb_level0_row0\" class=\"row_heading level0 row0\" >0</th>\n",
              "      <td id=\"T_07bbb_row0_col0\" class=\"data row0 col0\" >False</td>\n",
              "      <td id=\"T_07bbb_row0_col1\" class=\"data row0 col1\" >0.506332</td>\n",
              "    </tr>\n",
              "    <tr>\n",
              "      <th id=\"T_07bbb_level0_row1\" class=\"row_heading level0 row1\" >1</th>\n",
              "      <td id=\"T_07bbb_row1_col0\" class=\"data row1 col0\" >True</td>\n",
              "      <td id=\"T_07bbb_row1_col1\" class=\"data row1 col1\" >0.381910</td>\n",
              "    </tr>\n",
              "  </tbody>\n",
              "</table>\n"
            ]
          },
          "metadata": {},
          "execution_count": 1576
        }
      ]
    },
    {
      "cell_type": "markdown",
      "source": [
        "**Age Vs Transported**"
      ],
      "metadata": {
        "id": "32GvywsYimSn"
      }
    },
    {
      "cell_type": "code",
      "source": [
        "sns.set_style(\"dark\")\n",
        "hist_plot('Transported',\"Age\")"
      ],
      "metadata": {
        "colab": {
          "base_uri": "https://localhost:8080/",
          "height": 301
        },
        "id": "GMl2C9uGinMP",
        "outputId": "5d14daeb-bd6d-40cc-86e6-74ef25274d30"
      },
      "execution_count": 1577,
      "outputs": [
        {
          "output_type": "display_data",
          "data": {
            "text/plain": [
              "<Figure size 432x288 with 1 Axes>"
            ],
            "image/png": "[encoded data removed]"
          },
          "metadata": {}
        }
      ]
    },
    {
      "cell_type": "markdown",
      "source": [
        "- Ages 0-10 most likely to be transported\n",
        "- Most passengers aged 14-40 years old\n",
        "- Age band of 5 years good length"
      ],
      "metadata": {
        "id": "BtCC1YHFiwTe"
      }
    },
    {
      "cell_type": "code",
      "source": [
        "print(space.columns.values)"
      ],
      "metadata": {
        "colab": {
          "base_uri": "https://localhost:8080/"
        },
        "id": "VHtRsGJSHhgS",
        "outputId": "c082a638-93a9-4240-bddd-d3c7936ce7d8"
      },
      "execution_count": 1578,
      "outputs": [
        {
          "output_type": "stream",
          "name": "stdout",
          "text": [
            "['PassengerId' 'HomePlanet' 'CryoSleep' 'Cabin' 'Destination' 'Age' 'VIP'\n",
            " 'RoomService' 'FoodCourt' 'ShoppingMall' 'Spa' 'VRDeck' 'Name'\n",
            " 'Transported']\n"
          ]
        }
      ]
    },
    {
      "cell_type": "code",
      "source": [
        "sns.set(rc = {'figure.figsize':(10,6)})\n",
        "sns.heatmap(space.corr(), annot = True, fmt='.2g',cmap= 'YlGnBu')"
      ],
      "metadata": {
        "colab": {
          "base_uri": "https://localhost:8080/",
          "height": 462
        },
        "id": "UmQzyjLhjRfG",
        "outputId": "dd2a001a-5a7a-482e-ae40-f27baa46e2e0"
      },
      "execution_count": 1579,
      "outputs": [
        {
          "output_type": "execute_result",
          "data": {
            "text/plain": [
              "<matplotlib.axes._subplots.AxesSubplot at 0x7f0ea4be2450>"
            ]
          },
          "metadata": {},
          "execution_count": 1579
        },
        {
          "output_type": "display_data",
          "data": {
            "text/plain": [
              "<Figure size 720x432 with 2 Axes>"
            ],
            "image/png": "[encoded data removed]"
          },
          "metadata": {}
        }
      ]
    },
    {
      "cell_type": "markdown",
      "source": [
        "- FoodCourt, Spa and VRDeck correlated\n",
        "- Room Service, Spa and VRDeck negatively correlated with transported"
      ],
      "metadata": {
        "id": "XQfKkG-ejpEX"
      }
    },
    {
      "cell_type": "markdown",
      "source": [
        "# Wrangling Data"
      ],
      "metadata": {
        "id": "ZMNGAaBx85gO"
      }
    },
    {
      "cell_type": "markdown",
      "source": [
        "Will be combing the training and test data so that we transform them together"
      ],
      "metadata": {
        "id": "IYgDys13ZMRg"
      }
    },
    {
      "cell_type": "markdown",
      "source": [
        "### Drop useless features"
      ],
      "metadata": {
        "id": "6d-5nxnl8_8W"
      }
    },
    {
      "cell_type": "code",
      "source": [
        "for dataset in combined:\n",
        "  dataset.drop(columns = ['PassengerId', 'Cabin', 'Name'] , inplace = True)"
      ],
      "metadata": {
        "id": "Jgoy-V7O87gO"
      },
      "execution_count": 1614,
      "outputs": []
    },
    {
      "cell_type": "markdown",
      "source": [
        "### Filling Missing Values and Converting Categorical Features to Numerical"
      ],
      "metadata": {
        "id": "p2mOLr-sWCaH"
      }
    },
    {
      "cell_type": "markdown",
      "source": [
        "- Could Remove missing values\n",
        "- Could Impute missing values by using the most common value or by prediction\n",
        "\n",
        "For coverting, will be using Ordinal when I think there is a ranking in the categorical features, such as for Home Planet 0 would be Earth as it least correlates to Transported and Europa would be 2 as it most does."
      ],
      "metadata": {
        "id": "_pIurh1uX8mY"
      }
    },
    {
      "cell_type": "markdown",
      "source": [
        "*NOTE: Does not allow to alter all features in one for dataset in combined loop, as once we change a dataset the loop is still altering the original one*"
      ],
      "metadata": {
        "id": "0ok05w8HN5Hz"
      }
    },
    {
      "cell_type": "code",
      "source": [
        "def FillNA_Cat(dataset, feature):\n",
        "  dataset[feature].fillna(dataset[feature].value_counts().idxmax(), inplace=True)\n",
        "\n",
        "def FillNA_Num(dataset, feature):\n",
        "  dataset[feature].fillna(dataset[feature].median(), inplace=True)\n",
        "\n",
        "\n",
        "for dataset in combined:\n",
        "  # HomePlanet\n",
        "  FillNA_Cat(dataset, 'HomePlanet')\n",
        "  dataset['HomePlanet'] = dataset['HomePlanet'].dropna().map({'Earth':0, 'Mars':1, 'Europa':2}).astype(int)\n",
        "\n",
        "for dataset in combined:\n",
        "  #Destination\n",
        "  FillNA_Cat(dataset, 'Destination')\n",
        "  dataset['Destination'] = dataset['Destination'].map({'TRAPPIST-1e':0, 'PSO J318.5-22':1, '55 Cancri e':2}).astype(int)\n",
        "\n",
        "for dataset in combined:\n",
        "  #VIP\n",
        "  dataset['VIP'].fillna(dataset['CryoSleep'], inplace=True) #VIP and CryoSleep seem highly correlated\n",
        "  FillNA_Cat(dataset, 'VIP')\n",
        "  dataset['VIP'] = dataset['VIP'].map({False:0, True:1}).astype(int)\n",
        "\n",
        "for dataset in combined:\n",
        "#CryoSleep\n",
        "  dataset['CryoSleep'].fillna(dataset['VIP'], inplace=True) #VIP and CryoSleep seem highly correlated, CryoSleep very important for determining Transported\n",
        "  FillNA_Cat(dataset, 'CryoSleep') #Incase of any values NA for both columns\n",
        "  dataset['CryoSleep'] = dataset['CryoSleep'].dropna().map({False:0, True:1}).astype(int)\n",
        "\n",
        "#Cabin\n",
        "for dataset in combined:\n",
        "  dataset.Deck = dataset.Deck.replace('NA', dataset.Deck.value_counts().idxmax())\n",
        "\n",
        "space = space.join(pd.get_dummies(space.Deck, prefix = 'Deck'))\n",
        "space = space.drop('Deck', axis = 1)\n",
        "space_test = space_test.join(pd.get_dummies(space_test.Deck, prefix = 'Deck'))\n",
        "space_test = space_test.drop('Deck', axis = 1)\n",
        "\n",
        "combined = [space, space_test]\n",
        "\n",
        "for dataset in combined:\n",
        "  dataset.Side = dataset.Side.replace('NA', dataset.Side.value_counts().idxmax())\n",
        "  dataset['Side'] = dataset['Side'].map({'P':0, 'S':1})\n",
        "\n",
        "#Age\n",
        "for dataset in combined:\n",
        "  FillNA_Num(dataset, 'Age')\n",
        "\n",
        "for dataset in combined:\n",
        "#RoomService\n",
        "  FillNA_Num(dataset, 'RoomService')\n",
        "\n",
        "for dataset in combined:\n",
        "#FoodCourt\n",
        "  FillNA_Num(dataset, 'FoodCourt')\n",
        "\n",
        "for dataset in combined:\n",
        "#ShoppingMall\n",
        "  FillNA_Num(dataset, 'ShoppingMall')\n",
        "\n",
        "for dataset in combined:\n",
        "#Spa\n",
        "  FillNA_Num(dataset, 'Spa')\n",
        "\n",
        "#VRDeck\n",
        "for dataset in combined:\n",
        "  FillNA_Num(dataset, 'VRDeck')"
      ],
      "metadata": {
        "id": "Tiq5SdY4WJd4"
      },
      "execution_count": 1615,
      "outputs": []
    },
    {
      "cell_type": "code",
      "source": [
        "space['Transported'] = space['Transported'].map({False:0, True:1}).astype(int)"
      ],
      "metadata": {
        "id": "K8-PSqLsTdnT"
      },
      "execution_count": 1616,
      "outputs": []
    },
    {
      "cell_type": "markdown",
      "source": [
        "**Final Checks**"
      ],
      "metadata": {
        "id": "Vr_uOy04RsVD"
      }
    },
    {
      "cell_type": "code",
      "source": [
        "print(\"Data missing values:\\n\")\n",
        "print(space.isnull().sum())\n",
        "print('\\n','_'*40 , '\\n')\n",
        "print(space.info())"
      ],
      "metadata": {
        "id": "_WQyjeVURr96"
      },
      "execution_count": null,
      "outputs": []
    },
    {
      "cell_type": "code",
      "source": [
        "space.head()"
      ],
      "metadata": {
        "id": "SBoGABPgSevq"
      },
      "execution_count": null,
      "outputs": []
    },
    {
      "cell_type": "markdown",
      "source": [
        "# Sklearn Modelling"
      ],
      "metadata": {
        "id": "1CFH4Qqnd-xz"
      }
    },
    {
      "cell_type": "code",
      "source": [
        "from sklearn.ensemble import RandomForestClassifier, AdaBoostClassifier, GradientBoostingClassifier, ExtraTreesClassifier, VotingClassifier\n",
        "from sklearn.discriminant_analysis import LinearDiscriminantAnalysis\n",
        "from sklearn.linear_model import LogisticRegression\n",
        "from sklearn.neighbors import KNeighborsClassifier\n",
        "from sklearn.tree import DecisionTreeClassifier\n",
        "from sklearn.neural_network import MLPClassifier\n",
        "from sklearn.svm import SVC\n",
        "from sklearn.model_selection import GridSearchCV, cross_val_score, StratifiedKFold, learning_curve"
      ],
      "metadata": {
        "id": "KC8_TLNPeBNT"
      },
      "execution_count": null,
      "outputs": []
    },
    {
      "cell_type": "code",
      "source": [
        "from sklearn.model_selection import train_test_split\n",
        "\n",
        "train, test = train_test_split(space, test_size=0.2)\n",
        "X_train = train.drop(['Transported'],axis=1)\n",
        "Y_train = train['Transported']"
      ],
      "metadata": {
        "id": "Nau7dSV_eFjz"
      },
      "execution_count": null,
      "outputs": []
    },
    {
      "cell_type": "code",
      "source": [
        "kfold = StratifiedKFold(n_splits=4)"
      ],
      "metadata": {
        "id": "hnhVfnUieUeK"
      },
      "execution_count": null,
      "outputs": []
    },
    {
      "cell_type": "code",
      "source": [
        "random_state = 42\n",
        "classifiers = []\n",
        "classifiers.append(SVC(random_state=random_state))\n",
        "classifiers.append(DecisionTreeClassifier(random_state=random_state))\n",
        "classifiers.append(AdaBoostClassifier(DecisionTreeClassifier(random_state=random_state),random_state=random_state,learning_rate=0.1))\n",
        "classifiers.append(RandomForestClassifier(random_state=random_state))\n",
        "classifiers.append(ExtraTreesClassifier(random_state=random_state))\n",
        "classifiers.append(GradientBoostingClassifier(random_state=random_state))\n",
        "classifiers.append(MLPClassifier(random_state=random_state))\n",
        "classifiers.append(KNeighborsClassifier())\n",
        "classifiers.append(LogisticRegression(random_state = random_state))\n",
        "classifiers.append(LinearDiscriminantAnalysis())\n",
        "\n",
        "cv_results = []\n",
        "for classifier in classifiers :\n",
        "    cv_results.append(cross_val_score(classifier, X_train, y = Y_train, scoring = \"accuracy\", cv = kfold, n_jobs=4))\n",
        "\n",
        "cv_means = []\n",
        "cv_std = []\n",
        "for cv_result in cv_results:\n",
        "    cv_means.append(cv_result.mean())\n",
        "    cv_std.append(cv_result.std())\n",
        "\n",
        "cv_res = pd.DataFrame({\"CrossValMeans\":cv_means,\"CrossValerrors\": cv_std,\n",
        "                       \"Algorithm\":[\"SVC\",\"DecisionTree\",\"AdaBoost\",\"RandomForest\",\n",
        "                                    \"ExtraTrees\",\"GradientBoosting\",\"MultipleLayerPerceptron\",\n",
        "                                    \"KNeighboors\",\"LogisticRegression\",\"LinearDiscriminantAnalysis\"]})\n",
        "\n",
        "g = sns.barplot(\"CrossValMeans\",\"Algorithm\",data = cv_res, palette=\"Set3\",orient = \"h\",**{'xerr':cv_std})\n",
        "g.set_xlabel(\"Mean Accuracy\")\n",
        "g = g.set_title(\"Cross validation scores\")"
      ],
      "metadata": {
        "id": "p5oacESpeVEU"
      },
      "execution_count": null,
      "outputs": []
    },
    {
      "cell_type": "code",
      "source": [
        "# Gradient boosting tuning\n",
        "\n",
        "GBC = GradientBoostingClassifier()\n",
        "gb_param_grid = {'loss' : [\"deviance\"],\n",
        "              'n_estimators' : [300, 600],\n",
        "              'learning_rate': [0.5, 0.1],\n",
        "              'max_depth': [8, 16],\n",
        "              'min_samples_leaf': [50, 100],\n",
        "              'max_features': [0.1, 0.05] \n",
        "              }\n",
        "\n",
        "gsGBC = GridSearchCV(GBC,param_grid = gb_param_grid, cv=kfold, scoring=\"accuracy\", n_jobs= -1, verbose = 2)\n",
        "\n",
        "gsGBC.fit(X_train,Y_train)\n",
        "\n",
        "GBC_best = gsGBC.best_estimator_"
      ],
      "metadata": {
        "id": "OLRYZK-wfQyr"
      },
      "execution_count": null,
      "outputs": []
    },
    {
      "cell_type": "code",
      "source": [
        "gsGBC.best_params_"
      ],
      "metadata": {
        "colab": {
          "base_uri": "https://localhost:8080/"
        },
        "id": "LegCsoJfhO8M",
        "outputId": "4fda7bbd-6ec5-4beb-b60e-08d08fdbe871"
      },
      "execution_count": 1597,
      "outputs": [
        {
          "output_type": "execute_result",
          "data": {
            "text/plain": [
              "{'learning_rate': 0.1,\n",
              " 'loss': 'deviance',\n",
              " 'max_depth': 16,\n",
              " 'max_features': 0.05,\n",
              " 'min_samples_leaf': 100,\n",
              " 'n_estimators': 600}"
            ]
          },
          "metadata": {},
          "execution_count": 1597
        }
      ]
    },
    {
      "cell_type": "code",
      "source": [
        "gsGBC.best_score_"
      ],
      "metadata": {
        "colab": {
          "base_uri": "https://localhost:8080/"
        },
        "id": "0gD56wyR0LjE",
        "outputId": "6b9dbffd-1878-4b06-891d-377d0324cf81"
      },
      "execution_count": 1598,
      "outputs": [
        {
          "output_type": "execute_result",
          "data": {
            "text/plain": [
              "0.8032792512660544"
            ]
          },
          "metadata": {},
          "execution_count": 1598
        }
      ]
    },
    {
      "cell_type": "markdown",
      "source": [
        "# TensorFlow Modelling"
      ],
      "metadata": {
        "id": "OiCkdjqzVXmL"
      }
    },
    {
      "cell_type": "code",
      "source": [
        "from sklearn.model_selection import train_test_split\n",
        "\n",
        "full_train, test = train_test_split(space, test_size=0.2)\n",
        "train, valid = train_test_split(full_train, test_size=0.2)\n",
        "X_train = train.drop(['Transported'],axis=1)\n",
        "y_train = train['Transported']\n",
        "X_valid = valid.drop(['Transported'],axis=1)\n",
        "y_valid = valid['Transported']"
      ],
      "metadata": {
        "id": "RyP3R2AlVb0i"
      },
      "execution_count": null,
      "outputs": []
    },
    {
      "cell_type": "code",
      "source": [
        "X_train_deep = X_train.copy()\n",
        "y_train_deep = y_train.copy()\n",
        "X_valid_deep = X_valid.copy()\n",
        "y_valid_deep = y_valid.copy()\n",
        "normalizer = tf.keras.layers.Normalization(axis=-1)\n",
        "normalizer.adapt(X_train_deep)"
      ],
      "metadata": {
        "id": "X8cGCmzHWv9b"
      },
      "execution_count": null,
      "outputs": []
    },
    {
      "cell_type": "code",
      "source": [
        "normalizer(X_train_deep.iloc[:3])"
      ],
      "metadata": {
        "id": "ic9xALcRjntd"
      },
      "execution_count": null,
      "outputs": []
    },
    {
      "cell_type": "code",
      "source": [
        "def build_model(n_hidden=2, n_neurons=30, learning_rate=0.1):\n",
        "  model = keras.Sequential([normalizer])\n",
        "  for layer in range(n_hidden):\n",
        "    model.add(keras.layers.Dense(n_neurons, activation='relu'))\n",
        "  model.add(keras.layers.Dense(1))\n",
        "  optimizer = keras.optimizers.SGD(learning_rate)\n",
        "  model.compile(loss=keras.losses.BinaryCrossentropy(from_logits=True),\n",
        "                optimizer=optimizer,\n",
        "                metrics=['accuracy'])\n",
        "  return model"
      ],
      "metadata": {
        "id": "_TGXe3bHoaKE"
      },
      "execution_count": null,
      "outputs": []
    },
    {
      "cell_type": "code",
      "source": [
        "model = keras.wrappers.scikit_learn.KerasClassifier(build_model)"
      ],
      "metadata": {
        "id": "CfG18vBepjsc"
      },
      "execution_count": null,
      "outputs": []
    },
    {
      "cell_type": "code",
      "source": [
        "from sklearn.model_selection import RandomizedSearchCV\n",
        "\n",
        "param_distribs = {\n",
        " \"n_hidden\": [0, 1, 2, 3],\n",
        " \"n_neurons\": np.arange(1, 100),\n",
        " \"learning_rate\": (0.1, 0.05),\n",
        "}\n",
        "rnd_search_cv = RandomizedSearchCV(model, param_distribs, n_iter=10, cv=3)\n",
        "rnd_search_cv.fit(X_train_deep, y_train, epochs=100,\n",
        "                  validation_data=(X_valid, y_valid),\n",
        "                  callbacks=[keras.callbacks.EarlyStopping(patience=10)])"
      ],
      "metadata": {
        "id": "9Mien_NFr3EM"
      },
      "execution_count": null,
      "outputs": []
    },
    {
      "cell_type": "code",
      "source": [
        "rnd_search_cv.best_params_"
      ],
      "metadata": {
        "id": "gLqakdyPugU8"
      },
      "execution_count": null,
      "outputs": []
    },
    {
      "cell_type": "code",
      "source": [
        "rnd_search_cv.best_score_"
      ],
      "metadata": {
        "colab": {
          "base_uri": "https://localhost:8080/"
        },
        "id": "d3rQzdk5urLc",
        "outputId": "e2545e6c-329c-452b-b23f-c7a83fefa82f"
      },
      "execution_count": 1596,
      "outputs": [
        {
          "output_type": "execute_result",
          "data": {
            "text/plain": [
              "0.796887735525767"
            ]
          },
          "metadata": {},
          "execution_count": 1596
        }
      ]
    },
    {
      "cell_type": "markdown",
      "source": [
        "# Conclusions"
      ],
      "metadata": {
        "id": "gL4ozWQD0PoL"
      }
    },
    {
      "cell_type": "markdown",
      "source": [
        "Seems the quality of my data and how I handled it has bottle necked me at 80% accuracy."
      ],
      "metadata": {
        "id": "mZN4wy7h0Vqt"
      }
    },
    {
      "cell_type": "code",
      "source": [
        "gsGBC.predict(space_test).astype(bool)"
      ],
      "metadata": {
        "colab": {
          "base_uri": "https://localhost:8080/"
        },
        "id": "nr0DYKxK4ext",
        "outputId": "819eaf36-f560-4c9f-fd94-a95e822e7714"
      },
      "execution_count": 1620,
      "outputs": [
        {
          "output_type": "execute_result",
          "data": {
            "text/plain": [
              "array([ True, False,  True, ...,  True,  True,  True])"
            ]
          },
          "metadata": {},
          "execution_count": 1620
        }
      ]
    },
    {
      "cell_type": "code",
      "source": [
        "from numpy import copy\n",
        "space_test2 = pd.read_csv('/content/SpaceTitanicTest.csv')\n",
        "\n",
        "test_Transported = pd.Series(gsGBC.predict(space_test).astype(bool), name=\"Transported\")\n",
        "\n",
        "results = pd.concat([space_test2.PassengerId,test_Transported],axis=1)\n",
        "\n",
        "results.to_csv(\"SpaceTitanicResults.csv\",index=False)"
      ],
      "metadata": {
        "id": "lhaVTpjA0hTc"
      },
      "execution_count": 1621,
      "outputs": []
    }
  ]
}